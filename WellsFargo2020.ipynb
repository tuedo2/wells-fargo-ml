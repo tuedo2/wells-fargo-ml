{
 "cells": [
  {
   "cell_type": "code",
   "execution_count": 1,
   "metadata": {},
   "outputs": [
    {
     "name": "stdout",
     "output_type": "stream",
     "text": [
      "            X0        X1        X2        X3        X4        X5        X6  \\\n",
      "0     0.985703  0.899527  2.332283  1.044273  1.141718 -1.656647 -1.409265   \n",
      "1     0.539816  0.243602  1.636048 -0.562150 -0.235560 -1.316039  1.529069   \n",
      "2    -1.424483 -0.470533  0.095100  0.131981  1.168902 -0.827530 -1.233111   \n",
      "3    -1.034157 -1.054496  0.339467 -0.829151  0.012123  0.048887  0.573195   \n",
      "4     0.177091  1.154216  1.004133 -0.724015 -0.508090 -0.478284 -0.524431   \n",
      "...        ...       ...       ...       ...       ...       ...       ...   \n",
      "2995  0.127214 -0.644439 -0.356251 -1.188522  0.646979 -1.018895 -0.153524   \n",
      "2996  0.427700  1.460896 -1.260326  2.206359 -0.981929  0.045186  0.406928   \n",
      "2997 -0.880540  0.678472  0.493897 -0.118869  0.005285 -0.201233 -0.601732   \n",
      "2998  0.151291 -0.949928 -1.960683 -1.352557  2.221015 -0.775556  0.932388   \n",
      "2999  1.351919 -0.353120 -0.918519 -0.417465 -0.688730 -0.157284 -1.233306   \n",
      "\n",
      "            X7        X8        X9  ...       X21       X22       X23  \\\n",
      "0     1.043518 -0.931461 -1.726754  ...  0.217853  0.628801  0.511403   \n",
      "1    -1.415871 -1.167266 -0.103195  ...  2.020398  0.734907  0.929244   \n",
      "2     0.556679 -1.384065 -1.197944  ...  1.470933 -1.398526 -2.139636   \n",
      "3    -0.189184 -0.674289  0.975835  ...  0.881025  0.305298 -0.368107   \n",
      "4     1.841560 -1.147140  0.435025  ...  0.515647  1.095991 -0.993104   \n",
      "...        ...       ...       ...  ...       ...       ...       ...   \n",
      "2995 -0.102938  1.109257  0.173160  ...  0.828288 -1.362069 -2.267345   \n",
      "2996 -0.409999  0.602068 -1.145479  ...  0.350893  0.558446 -1.430444   \n",
      "2997 -0.747260 -0.413440 -1.144848  ...  1.959871  0.924523 -0.304820   \n",
      "2998 -0.963642  0.649496 -1.658190  ... -1.576338  0.896517 -0.586427   \n",
      "2999 -0.199669 -1.000622 -0.676667  ...  1.025231 -0.084711  1.105593   \n",
      "\n",
      "           X24       X25       X26       X27       X28       X29  y  \n",
      "0     0.562767 -0.356514  0.867604 -0.218642 -0.336591  0.096781  0  \n",
      "1    -0.805046  0.268788  1.025799  1.112271  1.492585 -0.497020  0  \n",
      "2    -1.238090 -0.139802 -2.317249  0.113483  0.521594  1.269208  0  \n",
      "3    -0.664859  0.225715 -0.865773 -0.026332 -0.209023  0.074814  0  \n",
      "4    -0.775456  0.938553  0.662388  0.483111 -0.910481  1.544431  0  \n",
      "...        ...       ...       ...       ...       ...       ... ..  \n",
      "2995  0.329806  0.255234 -1.145799  0.673261 -0.072575  0.233888  1  \n",
      "2996  0.067506 -0.865400  0.571944  1.172911 -0.917354  0.126003  0  \n",
      "2997  0.153800  0.316073  0.243841 -1.641217  0.287025  0.591607  1  \n",
      "2998 -0.314806 -0.048052  0.142921  1.057203 -1.335579 -0.108947  0  \n",
      "2999 -1.728433  1.575538 -1.092105  0.863792  0.551103 -1.432635  1  \n",
      "\n",
      "[3000 rows x 31 columns]\n"
     ]
    }
   ],
   "source": [
    "# import dataset\n",
    "import pandas as pd\n",
    "import numpy as np\n",
    "import os\n",
    "\n",
    "# to make this notebook's output stable across runs\n",
    "np.random.seed(42)\n",
    "\n",
    "# To plot pretty figures\n",
    "%matplotlib inline\n",
    "import matplotlib as mpl\n",
    "import matplotlib.pyplot as plt\n",
    "mpl.rc('axes', labelsize=14)\n",
    "mpl.rc('xtick', labelsize=12)\n",
    "mpl.rc('ytick', labelsize=12)\n",
    "\n",
    "# Where to save the figures\n",
    "PROJECT_ROOT_DIR = \".\"\n",
    "CHAPTER_ID = \"end_to_end_project\"\n",
    "IMAGES_PATH = os.path.join(PROJECT_ROOT_DIR, \"images\", CHAPTER_ID)\n",
    "\n",
    "def save_fig(fig_id, tight_layout=True, fig_extension=\"png\", resolution=300):\n",
    "    path = os.path.join(IMAGES_PATH, fig_id + \".\" + fig_extension)\n",
    "    print(\"Saving figure\", fig_id)\n",
    "    if tight_layout:\n",
    "        plt.tight_layout()\n",
    "    plt.savefig(path, format=fig_extension, dpi=resolution)\n",
    "\n",
    "# Ignore useless warnings (see SciPy issue #5998)\n",
    "import warnings\n",
    "warnings.filterwarnings(action=\"ignore\", message=\"^internal gelsd\")\n",
    "\n",
    "# visualization of training dataset\n",
    "df = pd.read_excel(r'/home/tuedo/Downloads/ChallengeDataSet-WellsFargo.xlsx')\n",
    "df1 = df.drop('XC', axis=1) # no XC column bc otherwise our array is an object array (not float)\n",
    "X = df1.to_numpy()\n",
    "print(df1)"
   ]
  },
  {
   "cell_type": "code",
   "execution_count": 2,
   "metadata": {},
   "outputs": [
    {
     "name": "stdout",
     "output_type": "stream",
     "text": [
      "(2400, 31) and (600, 31)\n"
     ]
    }
   ],
   "source": [
    "from sklearn.model_selection import train_test_split\n",
    "\n",
    "train_set, cv_set = train_test_split(X, test_size=0.2, random_state=42)\n",
    "\n",
    "print(train_set.shape, \"and\", cv_set.shape)"
   ]
  },
  {
   "cell_type": "code",
   "execution_count": 3,
   "metadata": {},
   "outputs": [
    {
     "name": "stdout",
     "output_type": "stream",
     "text": [
      "(2400, 30) (2400,)\n"
     ]
    }
   ],
   "source": [
    "X_train, X_cv, y_train, y_cv = train_set[:, 0:30], cv_set[:, 0:30], train_set[:, 30], cv_set[:, 30]\n",
    "print(X_train.shape, y_train.shape)"
   ]
  },
  {
   "cell_type": "code",
   "execution_count": 4,
   "metadata": {},
   "outputs": [
    {
     "data": {
      "text/plain": [
       "SGDClassifier(random_state=42)"
      ]
     },
     "execution_count": 4,
     "metadata": {},
     "output_type": "execute_result"
    }
   ],
   "source": [
    "from sklearn.linear_model import SGDClassifier\n",
    "\n",
    "sgd_clf = SGDClassifier(random_state=42)\n",
    "sgd_clf.fit(X_train, y_train)"
   ]
  },
  {
   "cell_type": "code",
   "execution_count": 5,
   "metadata": {},
   "outputs": [
    {
     "name": "stdout",
     "output_type": "stream",
     "text": [
      "0.8854166666666666\n",
      "0.8625\n",
      "0.86875\n",
      "0.8895833333333333\n",
      "0.84375\n",
      "mean: 0.8699999999999999\n",
      "\n"
     ]
    }
   ],
   "source": [
    "from sklearn.model_selection import StratifiedKFold\n",
    "from sklearn.base import clone\n",
    "\n",
    "def show_predicts(clf, X_train, y_train):\n",
    "\n",
    "    skfolds = StratifiedKFold(n_splits=5, shuffle=True)\n",
    "    s = 0;\n",
    "\n",
    "    for train_index, cv_index in skfolds.split(X_train, y_train):\n",
    "        clone_clf = clone(clf)\n",
    "        X_train_folds = X_train[train_index]\n",
    "        y_train_folds = (y_train[train_index])\n",
    "        X_cv_fold = X_train[cv_index]\n",
    "        y_cv_fold = (y_train[cv_index])\n",
    "    \n",
    "        clone_clf.fit(X_train_folds, y_train_folds)\n",
    "        y_pred = clone_clf.predict(X_cv_fold)\n",
    "        n_correct = sum(y_pred == y_cv_fold)\n",
    "        print(n_correct / len(y_pred))\n",
    "        s += n_correct / len(y_pred);\n",
    "    print(\"mean:\", s / 5) # n_splits\n",
    "    print()\n",
    "    \n",
    "show_predicts(sgd_clf, X_train, y_train)"
   ]
  },
  {
   "cell_type": "code",
   "execution_count": 6,
   "metadata": {},
   "outputs": [],
   "source": [
    "# Things to try: PCA, incorporating the 'XC' column (either with 5 different classifers or something else)"
   ]
  },
  {
   "cell_type": "code",
   "execution_count": 7,
   "metadata": {},
   "outputs": [
    {
     "name": "stdout",
     "output_type": "stream",
     "text": [
      "A 615\n",
      "B 552\n",
      "C 665\n",
      "D 580\n",
      "E 588\n"
     ]
    }
   ],
   "source": [
    "# 5 classifiers, one for each value in 'XC' column - tradeoff, our dataset is small for each\n",
    "xc = df[\"XC\"]\n",
    "print(\"A\", sum(xc == 'A'))\n",
    "print(\"B\", sum(xc == 'B'))\n",
    "print(\"C\", sum(xc == 'C'))\n",
    "print(\"D\", sum(xc == 'D'))\n",
    "print(\"E\", sum(xc == 'E'))"
   ]
  },
  {
   "cell_type": "code",
   "execution_count": 8,
   "metadata": {},
   "outputs": [
    {
     "data": {
      "text/plain": [
       "array([   7,    9,   10,   14,   16,   33,   35,   43,   51,   52,   56,\n",
       "         61,   63,   64,   67,   74,   75,   88,   94,   96,  106,  113,\n",
       "        134,  140,  146,  150,  153,  155,  165,  171,  187,  196,  203,\n",
       "        205,  212,  217,  223,  227,  228,  229,  230,  238,  239,  244,\n",
       "        249,  251,  254,  262,  264,  267,  271,  272,  277,  278,  281,\n",
       "        294,  300,  305,  308,  314,  321,  322,  325,  326,  334,  344,\n",
       "        349,  352,  356,  374,  380,  392,  397,  402,  403,  408,  409,\n",
       "        410,  411,  412,  416,  434,  435,  442,  446,  448,  450,  451,\n",
       "        462,  464,  465,  467,  469,  472,  476,  480,  481,  483,  488,\n",
       "        490,  496,  498,  499,  502,  505,  535,  538,  545,  554,  555,\n",
       "        562,  572,  580,  586,  588,  591,  596,  601,  602,  603,  606,\n",
       "        615,  618,  626,  634,  640,  645,  646,  647,  655,  657,  659,\n",
       "        667,  671,  672,  673,  676,  686,  704,  707,  712,  719,  725,\n",
       "        731,  739,  749,  754,  768,  770,  772,  773,  774,  794,  801,\n",
       "        803,  812,  816,  817,  819,  822,  824,  839,  844,  845,  849,\n",
       "        851,  861,  869,  871,  877,  888,  890,  896,  900,  903,  906,\n",
       "        910,  921,  922,  923,  925,  928,  931,  933,  934,  935,  938,\n",
       "        939,  941,  944,  946,  953,  956,  962,  964,  969,  973,  981,\n",
       "        983,  984,  987,  994,  999, 1008, 1010, 1013, 1016, 1017, 1019,\n",
       "       1026, 1027, 1033, 1037, 1038, 1043, 1046, 1050, 1051, 1052, 1059,\n",
       "       1063, 1065, 1069, 1070, 1079, 1081, 1085, 1089, 1098, 1099, 1107,\n",
       "       1112, 1115, 1116, 1118, 1126, 1128, 1130, 1132, 1134, 1135, 1139,\n",
       "       1149, 1166, 1179, 1180, 1185, 1195, 1201, 1204, 1216, 1219, 1223,\n",
       "       1228, 1234, 1243, 1256, 1259, 1262, 1269, 1277, 1280, 1284, 1292,\n",
       "       1295, 1299, 1304, 1305, 1311, 1313, 1315, 1323, 1326, 1332, 1339,\n",
       "       1341, 1344, 1354, 1358, 1360, 1361, 1366, 1367, 1369, 1374, 1375,\n",
       "       1378, 1379, 1384, 1396, 1402, 1404, 1409, 1413, 1416, 1419, 1423,\n",
       "       1424, 1427, 1429, 1439, 1459, 1469, 1470, 1474, 1475, 1477, 1482,\n",
       "       1484, 1487, 1502, 1508, 1513, 1519, 1520, 1521, 1526, 1528, 1539,\n",
       "       1540, 1541, 1542, 1545, 1550, 1560, 1561, 1564, 1567, 1575, 1593,\n",
       "       1600, 1605, 1616, 1618, 1625, 1627, 1636, 1637, 1646, 1647, 1648,\n",
       "       1652, 1658, 1668, 1676, 1685, 1686, 1688, 1704, 1711, 1723, 1731,\n",
       "       1739, 1748, 1752, 1754, 1755, 1758, 1764, 1768, 1770, 1773, 1775,\n",
       "       1776, 1778, 1783, 1800, 1814, 1821, 1823, 1838, 1846, 1848, 1859,\n",
       "       1860, 1861, 1872, 1873, 1875, 1880, 1885, 1887, 1892, 1896, 1897,\n",
       "       1898, 1916, 1918, 1923, 1927, 1934, 1940, 1943, 1954, 1960, 1967,\n",
       "       1971, 1972, 1978, 1982, 1983, 1994, 1996, 2003, 2004, 2010, 2012,\n",
       "       2018, 2020, 2022, 2024, 2028, 2033, 2035, 2045, 2051, 2054, 2058,\n",
       "       2061, 2068, 2069, 2070, 2087, 2091, 2092, 2098, 2112, 2113, 2120,\n",
       "       2132, 2146, 2147, 2148, 2149, 2151, 2153, 2154, 2159, 2162, 2179,\n",
       "       2180, 2181, 2182, 2186, 2196, 2208, 2215, 2218, 2221, 2222, 2223,\n",
       "       2231, 2232, 2239, 2242, 2248, 2261, 2263, 2265, 2271, 2277, 2278,\n",
       "       2282, 2287, 2288, 2291, 2293, 2296, 2297, 2300, 2302, 2304, 2309,\n",
       "       2321, 2328, 2329, 2330, 2334, 2338, 2351, 2357, 2360, 2364, 2365,\n",
       "       2368, 2369, 2370, 2371, 2374, 2375, 2383, 2386, 2400, 2406, 2412,\n",
       "       2420, 2421, 2431, 2433, 2434, 2440, 2444, 2450, 2452, 2454, 2455,\n",
       "       2466, 2480, 2481, 2482, 2496, 2502, 2512, 2516, 2517, 2522, 2527,\n",
       "       2533, 2534, 2539, 2540, 2545, 2549, 2554, 2558, 2560, 2561, 2562,\n",
       "       2564, 2572, 2576, 2581, 2592, 2599, 2600, 2601, 2602, 2605, 2608,\n",
       "       2610, 2614, 2616, 2620, 2623, 2629, 2630, 2638, 2647, 2655, 2661,\n",
       "       2662, 2666, 2671, 2672, 2674, 2676, 2686, 2697, 2704, 2716, 2723,\n",
       "       2724, 2729, 2732, 2753, 2762, 2767, 2768, 2770, 2775, 2777, 2789,\n",
       "       2795, 2812, 2817, 2819, 2820, 2822, 2829, 2835, 2836, 2840, 2851,\n",
       "       2852, 2855, 2863, 2866, 2869, 2871, 2885, 2886, 2887, 2888, 2895,\n",
       "       2897, 2900, 2907, 2919, 2921, 2924, 2928, 2929, 2945, 2956, 2957,\n",
       "       2960, 2961, 2969, 2970, 2975, 2977, 2989, 2992, 2995, 2999])"
      ]
     },
     "execution_count": 8,
     "metadata": {},
     "output_type": "execute_result"
    }
   ],
   "source": [
    "ind_A = np.where(df[\"XC\"]=='A')\n",
    "ind_A[0]"
   ]
  },
  {
   "cell_type": "code",
   "execution_count": 9,
   "metadata": {},
   "outputs": [
    {
     "data": {
      "text/plain": [
       "(615, 31)"
      ]
     },
     "execution_count": 9,
     "metadata": {},
     "output_type": "execute_result"
    }
   ],
   "source": [
    "data_A = X[np.ma.masked_array(ind_A[0]), :]\n",
    "data_A.shape"
   ]
  },
  {
   "cell_type": "code",
   "execution_count": 10,
   "metadata": {},
   "outputs": [
    {
     "data": {
      "text/plain": [
       "SGDClassifier(random_state=42)"
      ]
     },
     "execution_count": 10,
     "metadata": {},
     "output_type": "execute_result"
    }
   ],
   "source": [
    "X_A, y_A = data_A[:, 0:30], data_A[:, 30]\n",
    "sgd_clf.fit(X_A, y_A)"
   ]
  },
  {
   "cell_type": "code",
   "execution_count": 11,
   "metadata": {},
   "outputs": [
    {
     "name": "stdout",
     "output_type": "stream",
     "text": [
      "0.9349593495934959\n",
      "0.975609756097561\n",
      "0.975609756097561\n",
      "0.983739837398374\n",
      "0.975609756097561\n",
      "mean: 0.9691056910569106\n",
      "\n"
     ]
    }
   ],
   "source": [
    "show_predicts(sgd_clf, X_A, y_A)"
   ]
  },
  {
   "cell_type": "code",
   "execution_count": 12,
   "metadata": {},
   "outputs": [
    {
     "data": {
      "text/plain": [
       "SGDClassifier(random_state=42)"
      ]
     },
     "execution_count": 12,
     "metadata": {},
     "output_type": "execute_result"
    }
   ],
   "source": [
    "# looks pretty good, we basically copy-paste 4 times now.\n",
    "ind_B = np.where(df[\"XC\"]=='B')\n",
    "data_B = X[np.ma.masked_array(ind_B[0]), :]\n",
    "X_B, y_B = data_B[:, 0:30], data_B[:, 30]\n",
    "sgd_clf.fit(X_B, y_B)\n",
    "\n",
    "ind_C = np.where(df[\"XC\"]=='C')\n",
    "data_C = X[np.ma.masked_array(ind_C[0]), :]\n",
    "X_C, y_C = data_C[:, 0:30], data_C[:, 30]\n",
    "sgd_clf.fit(X_C, y_C)\n",
    "\n",
    "ind_D = np.where(df[\"XC\"]=='D')\n",
    "data_D = X[np.ma.masked_array(ind_D[0]), :]\n",
    "X_D, y_D = data_D[:, 0:30], data_D[:, 30]\n",
    "sgd_clf.fit(X_D, y_D)\n",
    "\n",
    "ind_E = np.where(df[\"XC\"]=='E')\n",
    "data_E = X[np.ma.masked_array(ind_E[0]), :]\n",
    "X_E, y_E = data_E[:, 0:30], data_E[:, 30]\n",
    "sgd_clf.fit(X_E, y_E)"
   ]
  },
  {
   "cell_type": "code",
   "execution_count": 13,
   "metadata": {},
   "outputs": [
    {
     "name": "stdout",
     "output_type": "stream",
     "text": [
      "0.967479674796748\n",
      "0.975609756097561\n",
      "0.975609756097561\n",
      "0.9512195121951219\n",
      "0.975609756097561\n",
      "mean: 0.9691056910569106\n",
      "\n",
      "0.972972972972973\n",
      "0.954954954954955\n",
      "0.9545454545454546\n",
      "0.9636363636363636\n",
      "0.9818181818181818\n",
      "mean: 0.9655855855855856\n",
      "\n",
      "0.9849624060150376\n",
      "0.9699248120300752\n",
      "0.9323308270676691\n",
      "0.9548872180451128\n",
      "0.9774436090225563\n",
      "mean: 0.9639097744360902\n",
      "\n",
      "0.9913793103448276\n",
      "0.9741379310344828\n",
      "0.9396551724137931\n",
      "0.9482758620689655\n",
      "0.9827586206896551\n",
      "mean: 0.9672413793103448\n",
      "\n",
      "0.9491525423728814\n",
      "0.9491525423728814\n",
      "0.940677966101695\n",
      "0.9658119658119658\n",
      "0.9914529914529915\n",
      "mean: 0.959249601622483\n",
      "\n"
     ]
    }
   ],
   "source": [
    "show_predicts(sgd_clf, X_A, y_A)\n",
    "show_predicts(sgd_clf, X_B, y_B)\n",
    "show_predicts(sgd_clf, X_C, y_C)\n",
    "show_predicts(sgd_clf, X_D, y_D)\n",
    "show_predicts(sgd_clf, X_E, y_E)"
   ]
  },
  {
   "cell_type": "code",
   "execution_count": 14,
   "metadata": {},
   "outputs": [
    {
     "data": {
      "text/plain": [
       "array([[ 0.98570251,  0.89952702,  2.33228337, ..., -0.2186419 ,\n",
       "        -0.33659053,  0.09678116],\n",
       "       [ 0.53981647,  0.24360233,  1.63604842, ...,  1.11227118,\n",
       "         1.4925845 , -0.49701979],\n",
       "       [-1.42448337, -0.47053311,  0.09509954, ...,  0.1134828 ,\n",
       "         0.52159431,  1.26920802],\n",
       "       ...,\n",
       "       [-0.88054027,  0.67847241,  0.49389683, ..., -1.64121657,\n",
       "         0.28702535,  0.59160709],\n",
       "       [ 0.15129148, -0.94992761, -1.96068344, ...,  1.05720288,\n",
       "        -1.33557874, -0.1089474 ],\n",
       "       [ 1.35191918, -0.3531196 , -0.91851878, ...,  0.86379156,\n",
       "         0.55110331, -1.43263492]])"
      ]
     },
     "execution_count": 14,
     "metadata": {},
     "output_type": "execute_result"
    }
   ],
   "source": [
    "# SVM time\n",
    "from sklearn.pipeline import Pipeline\n",
    "from sklearn.preprocessing import StandardScaler\n",
    "from sklearn.svm import LinearSVC\n",
    "\n",
    "# preparing dataset\n",
    "df = pd.read_excel(r'/home/tuedo/Downloads/ChallengeDataSet-WellsFargo.xlsx')\n",
    "X = df.drop(columns=[\"XC\", \"y\"], axis=1).to_numpy()\n",
    "y = df[\"y\"].to_numpy()\n",
    "X"
   ]
  },
  {
   "cell_type": "code",
   "execution_count": 15,
   "metadata": {},
   "outputs": [
    {
     "name": "stderr",
     "output_type": "stream",
     "text": [
      "/home/tuedo/anaconda3/lib/python3.7/site-packages/sklearn/svm/_base.py:977: ConvergenceWarning: Liblinear failed to converge, increase the number of iterations.\n",
      "  \"the number of iterations.\", ConvergenceWarning)\n"
     ]
    },
    {
     "data": {
      "text/plain": [
       "Pipeline(steps=[('scaler', StandardScaler()),\n",
       "                ('linear_svc', LinearSVC(C=1, loss='hinge'))])"
      ]
     },
     "execution_count": 15,
     "metadata": {},
     "output_type": "execute_result"
    }
   ],
   "source": [
    "svm_clf = Pipeline((\n",
    "    (\"scaler\", StandardScaler()),\n",
    "    (\"linear_svc\", LinearSVC(C=1, loss=\"hinge\")),\n",
    "))\n",
    "\n",
    "svm_clf.fit(X, y)"
   ]
  },
  {
   "cell_type": "code",
   "execution_count": 16,
   "metadata": {},
   "outputs": [
    {
     "data": {
      "text/plain": [
       "Pipeline(steps=[('poly_features', PolynomialFeatures(degree=3)),\n",
       "                ('scaler', StandardScaler()),\n",
       "                ('svm_clf', LinearSVC(C=10, loss='hinge'))])"
      ]
     },
     "execution_count": 16,
     "metadata": {},
     "output_type": "execute_result"
    }
   ],
   "source": [
    "# fails to converge? perhaps we need a nonlinear classifier instead\n",
    "from sklearn.pipeline import Pipeline\n",
    "from sklearn.preprocessing import PolynomialFeatures\n",
    "from sklearn.svm import SVC\n",
    "\n",
    "polynomial_svm_clf = Pipeline((\n",
    "    (\"poly_features\", PolynomialFeatures(degree=3)),\n",
    "    (\"scaler\", StandardScaler()),\n",
    "    (\"svm_clf\", LinearSVC(C=10, loss=\"hinge\"))\n",
    "))\n",
    "\n",
    "polynomial_svm_clf.fit(X, y)"
   ]
  },
  {
   "cell_type": "code",
   "execution_count": 17,
   "metadata": {},
   "outputs": [
    {
     "data": {
      "text/plain": [
       "Pipeline(steps=[('scaler', StandardScaler()),\n",
       "                ('svm_clf', SVC(C=5, coef0=1, kernel='poly'))])"
      ]
     },
     "execution_count": 17,
     "metadata": {},
     "output_type": "execute_result"
    }
   ],
   "source": [
    "poly_kernel_svm_clf = Pipeline((\n",
    "    (\"scaler\", StandardScaler()),\n",
    "    (\"svm_clf\", SVC(kernel=\"poly\", degree=3, coef0=1, C=5)),\n",
    "))\n",
    "\n",
    "poly_kernel_svm_clf.fit(X,y)"
   ]
  },
  {
   "cell_type": "code",
   "execution_count": 18,
   "metadata": {},
   "outputs": [
    {
     "name": "stderr",
     "output_type": "stream",
     "text": [
      "/home/tuedo/anaconda3/lib/python3.7/site-packages/sklearn/svm/_base.py:977: ConvergenceWarning: Liblinear failed to converge, increase the number of iterations.\n",
      "  \"the number of iterations.\", ConvergenceWarning)\n",
      "/home/tuedo/anaconda3/lib/python3.7/site-packages/sklearn/svm/_base.py:977: ConvergenceWarning: Liblinear failed to converge, increase the number of iterations.\n",
      "  \"the number of iterations.\", ConvergenceWarning)\n",
      "/home/tuedo/anaconda3/lib/python3.7/site-packages/sklearn/svm/_base.py:977: ConvergenceWarning: Liblinear failed to converge, increase the number of iterations.\n",
      "  \"the number of iterations.\", ConvergenceWarning)\n",
      "/home/tuedo/anaconda3/lib/python3.7/site-packages/sklearn/svm/_base.py:977: ConvergenceWarning: Liblinear failed to converge, increase the number of iterations.\n",
      "  \"the number of iterations.\", ConvergenceWarning)\n",
      "/home/tuedo/anaconda3/lib/python3.7/site-packages/sklearn/svm/_base.py:977: ConvergenceWarning: Liblinear failed to converge, increase the number of iterations.\n",
      "  \"the number of iterations.\", ConvergenceWarning)\n"
     ]
    },
    {
     "name": "stdout",
     "output_type": "stream",
     "text": [
      "0.885\n",
      "0.895\n",
      "0.9016666666666666\n",
      "0.8833333333333333\n",
      "0.8766666666666667\n",
      "mean: 0.8883333333333333\n",
      "\n",
      "0.8033333333333333\n",
      "0.8216666666666667\n",
      "0.805\n",
      "0.83\n",
      "0.8116666666666666\n",
      "mean: 0.8143333333333335\n",
      "\n",
      "0.84\n",
      "0.8583333333333333\n",
      "0.865\n",
      "0.83\n",
      "0.85\n",
      "mean: 0.8486666666666667\n",
      "\n"
     ]
    }
   ],
   "source": [
    "show_predicts(svm_clf, X, y)\n",
    "show_predicts(polynomial_svm_clf, X, y)\n",
    "show_predicts(poly_kernel_svm_clf, X, y)"
   ]
  },
  {
   "cell_type": "code",
   "execution_count": 19,
   "metadata": {},
   "outputs": [
    {
     "name": "stdout",
     "output_type": "stream",
     "text": [
      "0.01\n",
      "0.9\n",
      "0.88\n",
      "0.8716666666666667\n",
      "0.88\n",
      "0.8883333333333333\n",
      "mean: 0.884\n",
      "\n",
      "0.03\n",
      "0.8966666666666666\n",
      "0.8666666666666667\n",
      "0.895\n",
      "0.8766666666666667\n",
      "0.8933333333333333\n",
      "mean: 0.8856666666666667\n",
      "\n",
      "0.1\n",
      "0.905\n",
      "0.8883333333333333\n",
      "0.8816666666666667\n",
      "0.8816666666666667\n",
      "0.8666666666666667\n",
      "mean: 0.8846666666666667\n",
      "\n",
      "0.3\n",
      "0.9\n",
      "0.88\n",
      "0.8983333333333333\n",
      "0.895\n",
      "0.87\n",
      "mean: 0.8886666666666667\n",
      "\n",
      "1\n",
      "0.88\n",
      "0.9033333333333333\n"
     ]
    },
    {
     "name": "stderr",
     "output_type": "stream",
     "text": [
      "/home/tuedo/anaconda3/lib/python3.7/site-packages/sklearn/svm/_base.py:977: ConvergenceWarning: Liblinear failed to converge, increase the number of iterations.\n",
      "  \"the number of iterations.\", ConvergenceWarning)\n",
      "/home/tuedo/anaconda3/lib/python3.7/site-packages/sklearn/svm/_base.py:977: ConvergenceWarning: Liblinear failed to converge, increase the number of iterations.\n",
      "  \"the number of iterations.\", ConvergenceWarning)\n",
      "/home/tuedo/anaconda3/lib/python3.7/site-packages/sklearn/svm/_base.py:977: ConvergenceWarning: Liblinear failed to converge, increase the number of iterations.\n",
      "  \"the number of iterations.\", ConvergenceWarning)\n",
      "/home/tuedo/anaconda3/lib/python3.7/site-packages/sklearn/svm/_base.py:977: ConvergenceWarning: Liblinear failed to converge, increase the number of iterations.\n",
      "  \"the number of iterations.\", ConvergenceWarning)\n",
      "/home/tuedo/anaconda3/lib/python3.7/site-packages/sklearn/svm/_base.py:977: ConvergenceWarning: Liblinear failed to converge, increase the number of iterations.\n",
      "  \"the number of iterations.\", ConvergenceWarning)\n",
      "/home/tuedo/anaconda3/lib/python3.7/site-packages/sklearn/svm/_base.py:977: ConvergenceWarning: Liblinear failed to converge, increase the number of iterations.\n",
      "  \"the number of iterations.\", ConvergenceWarning)\n",
      "/home/tuedo/anaconda3/lib/python3.7/site-packages/sklearn/svm/_base.py:977: ConvergenceWarning: Liblinear failed to converge, increase the number of iterations.\n",
      "  \"the number of iterations.\", ConvergenceWarning)\n",
      "/home/tuedo/anaconda3/lib/python3.7/site-packages/sklearn/svm/_base.py:977: ConvergenceWarning: Liblinear failed to converge, increase the number of iterations.\n",
      "  \"the number of iterations.\", ConvergenceWarning)\n",
      "/home/tuedo/anaconda3/lib/python3.7/site-packages/sklearn/svm/_base.py:977: ConvergenceWarning: Liblinear failed to converge, increase the number of iterations.\n",
      "  \"the number of iterations.\", ConvergenceWarning)\n",
      "/home/tuedo/anaconda3/lib/python3.7/site-packages/sklearn/svm/_base.py:977: ConvergenceWarning: Liblinear failed to converge, increase the number of iterations.\n",
      "  \"the number of iterations.\", ConvergenceWarning)\n",
      "/home/tuedo/anaconda3/lib/python3.7/site-packages/sklearn/svm/_base.py:977: ConvergenceWarning: Liblinear failed to converge, increase the number of iterations.\n",
      "  \"the number of iterations.\", ConvergenceWarning)\n",
      "/home/tuedo/anaconda3/lib/python3.7/site-packages/sklearn/svm/_base.py:977: ConvergenceWarning: Liblinear failed to converge, increase the number of iterations.\n",
      "  \"the number of iterations.\", ConvergenceWarning)\n",
      "/home/tuedo/anaconda3/lib/python3.7/site-packages/sklearn/svm/_base.py:977: ConvergenceWarning: Liblinear failed to converge, increase the number of iterations.\n",
      "  \"the number of iterations.\", ConvergenceWarning)\n",
      "/home/tuedo/anaconda3/lib/python3.7/site-packages/sklearn/svm/_base.py:977: ConvergenceWarning: Liblinear failed to converge, increase the number of iterations.\n",
      "  \"the number of iterations.\", ConvergenceWarning)\n",
      "/home/tuedo/anaconda3/lib/python3.7/site-packages/sklearn/svm/_base.py:977: ConvergenceWarning: Liblinear failed to converge, increase the number of iterations.\n",
      "  \"the number of iterations.\", ConvergenceWarning)\n",
      "/home/tuedo/anaconda3/lib/python3.7/site-packages/sklearn/svm/_base.py:977: ConvergenceWarning: Liblinear failed to converge, increase the number of iterations.\n",
      "  \"the number of iterations.\", ConvergenceWarning)\n",
      "/home/tuedo/anaconda3/lib/python3.7/site-packages/sklearn/svm/_base.py:977: ConvergenceWarning: Liblinear failed to converge, increase the number of iterations.\n",
      "  \"the number of iterations.\", ConvergenceWarning)\n",
      "/home/tuedo/anaconda3/lib/python3.7/site-packages/sklearn/svm/_base.py:977: ConvergenceWarning: Liblinear failed to converge, increase the number of iterations.\n",
      "  \"the number of iterations.\", ConvergenceWarning)\n",
      "/home/tuedo/anaconda3/lib/python3.7/site-packages/sklearn/svm/_base.py:977: ConvergenceWarning: Liblinear failed to converge, increase the number of iterations.\n",
      "  \"the number of iterations.\", ConvergenceWarning)\n",
      "/home/tuedo/anaconda3/lib/python3.7/site-packages/sklearn/svm/_base.py:977: ConvergenceWarning: Liblinear failed to converge, increase the number of iterations.\n",
      "  \"the number of iterations.\", ConvergenceWarning)\n",
      "/home/tuedo/anaconda3/lib/python3.7/site-packages/sklearn/svm/_base.py:977: ConvergenceWarning: Liblinear failed to converge, increase the number of iterations.\n",
      "  \"the number of iterations.\", ConvergenceWarning)\n",
      "/home/tuedo/anaconda3/lib/python3.7/site-packages/sklearn/svm/_base.py:977: ConvergenceWarning: Liblinear failed to converge, increase the number of iterations.\n",
      "  \"the number of iterations.\", ConvergenceWarning)\n"
     ]
    },
    {
     "name": "stdout",
     "output_type": "stream",
     "text": [
      "0.8833333333333333\n",
      "0.88\n",
      "0.8983333333333333\n",
      "mean: 0.8889999999999999\n",
      "\n",
      "3\n",
      "0.8933333333333333\n",
      "0.89\n",
      "0.8866666666666667\n",
      "0.8883333333333333\n",
      "0.875\n",
      "mean: 0.8866666666666667\n",
      "\n"
     ]
    },
    {
     "name": "stderr",
     "output_type": "stream",
     "text": [
      "/home/tuedo/anaconda3/lib/python3.7/site-packages/sklearn/svm/_base.py:977: ConvergenceWarning: Liblinear failed to converge, increase the number of iterations.\n",
      "  \"the number of iterations.\", ConvergenceWarning)\n",
      "/home/tuedo/anaconda3/lib/python3.7/site-packages/sklearn/svm/_base.py:977: ConvergenceWarning: Liblinear failed to converge, increase the number of iterations.\n",
      "  \"the number of iterations.\", ConvergenceWarning)\n",
      "/home/tuedo/anaconda3/lib/python3.7/site-packages/sklearn/svm/_base.py:977: ConvergenceWarning: Liblinear failed to converge, increase the number of iterations.\n",
      "  \"the number of iterations.\", ConvergenceWarning)\n",
      "/home/tuedo/anaconda3/lib/python3.7/site-packages/sklearn/svm/_base.py:977: ConvergenceWarning: Liblinear failed to converge, increase the number of iterations.\n",
      "  \"the number of iterations.\", ConvergenceWarning)\n",
      "/home/tuedo/anaconda3/lib/python3.7/site-packages/sklearn/svm/_base.py:977: ConvergenceWarning: Liblinear failed to converge, increase the number of iterations.\n",
      "  \"the number of iterations.\", ConvergenceWarning)\n",
      "/home/tuedo/anaconda3/lib/python3.7/site-packages/sklearn/svm/_base.py:977: ConvergenceWarning: Liblinear failed to converge, increase the number of iterations.\n",
      "  \"the number of iterations.\", ConvergenceWarning)\n",
      "/home/tuedo/anaconda3/lib/python3.7/site-packages/sklearn/svm/_base.py:977: ConvergenceWarning: Liblinear failed to converge, increase the number of iterations.\n",
      "  \"the number of iterations.\", ConvergenceWarning)\n"
     ]
    },
    {
     "name": "stdout",
     "output_type": "stream",
     "text": [
      "10\n",
      "0.88\n",
      "0.8783333333333333\n",
      "0.8983333333333333\n",
      "0.8816666666666667\n"
     ]
    },
    {
     "name": "stderr",
     "output_type": "stream",
     "text": [
      "/home/tuedo/anaconda3/lib/python3.7/site-packages/sklearn/svm/_base.py:977: ConvergenceWarning: Liblinear failed to converge, increase the number of iterations.\n",
      "  \"the number of iterations.\", ConvergenceWarning)\n",
      "/home/tuedo/anaconda3/lib/python3.7/site-packages/sklearn/svm/_base.py:977: ConvergenceWarning: Liblinear failed to converge, increase the number of iterations.\n",
      "  \"the number of iterations.\", ConvergenceWarning)\n",
      "/home/tuedo/anaconda3/lib/python3.7/site-packages/sklearn/svm/_base.py:977: ConvergenceWarning: Liblinear failed to converge, increase the number of iterations.\n",
      "  \"the number of iterations.\", ConvergenceWarning)\n",
      "/home/tuedo/anaconda3/lib/python3.7/site-packages/sklearn/svm/_base.py:977: ConvergenceWarning: Liblinear failed to converge, increase the number of iterations.\n",
      "  \"the number of iterations.\", ConvergenceWarning)\n",
      "/home/tuedo/anaconda3/lib/python3.7/site-packages/sklearn/svm/_base.py:977: ConvergenceWarning: Liblinear failed to converge, increase the number of iterations.\n",
      "  \"the number of iterations.\", ConvergenceWarning)\n"
     ]
    },
    {
     "name": "stdout",
     "output_type": "stream",
     "text": [
      "0.8866666666666667\n",
      "mean: 0.8850000000000001\n",
      "\n",
      "30\n",
      "0.9\n"
     ]
    },
    {
     "name": "stderr",
     "output_type": "stream",
     "text": [
      "/home/tuedo/anaconda3/lib/python3.7/site-packages/sklearn/svm/_base.py:977: ConvergenceWarning: Liblinear failed to converge, increase the number of iterations.\n",
      "  \"the number of iterations.\", ConvergenceWarning)\n",
      "/home/tuedo/anaconda3/lib/python3.7/site-packages/sklearn/svm/_base.py:977: ConvergenceWarning: Liblinear failed to converge, increase the number of iterations.\n",
      "  \"the number of iterations.\", ConvergenceWarning)\n",
      "/home/tuedo/anaconda3/lib/python3.7/site-packages/sklearn/svm/_base.py:977: ConvergenceWarning: Liblinear failed to converge, increase the number of iterations.\n",
      "  \"the number of iterations.\", ConvergenceWarning)\n"
     ]
    },
    {
     "name": "stdout",
     "output_type": "stream",
     "text": [
      "0.8716666666666667\n",
      "0.8783333333333333\n",
      "0.8733333333333333\n",
      "0.8666666666666667\n",
      "mean: 0.8780000000000001\n",
      "\n"
     ]
    },
    {
     "name": "stderr",
     "output_type": "stream",
     "text": [
      "/home/tuedo/anaconda3/lib/python3.7/site-packages/sklearn/svm/_base.py:977: ConvergenceWarning: Liblinear failed to converge, increase the number of iterations.\n",
      "  \"the number of iterations.\", ConvergenceWarning)\n",
      "/home/tuedo/anaconda3/lib/python3.7/site-packages/sklearn/svm/_base.py:977: ConvergenceWarning: Liblinear failed to converge, increase the number of iterations.\n",
      "  \"the number of iterations.\", ConvergenceWarning)\n",
      "/home/tuedo/anaconda3/lib/python3.7/site-packages/sklearn/svm/_base.py:977: ConvergenceWarning: Liblinear failed to converge, increase the number of iterations.\n",
      "  \"the number of iterations.\", ConvergenceWarning)\n"
     ]
    }
   ],
   "source": [
    "def test_params_linearSVC(X, y):\n",
    "    C_list = [0.01, 0.03, 0.1, 0.3, 1, 3, 10, 30]\n",
    "    \n",
    "    for param in C_list:\n",
    "        clf = Pipeline((\n",
    "            (\"scaler\", StandardScaler()),\n",
    "            (\"linear_svc\", LinearSVC(C=param, loss=\"hinge\")),\n",
    "        ))\n",
    "        clf.fit(X, y)\n",
    "        \n",
    "        print(param)\n",
    "        show_predicts(clf, X, y)\n",
    "\n",
    "test_params_linearSVC(X, y)"
   ]
  },
  {
   "cell_type": "code",
   "execution_count": 20,
   "metadata": {},
   "outputs": [],
   "source": [
    "def mean_predicts(clf, X, y):\n",
    "    skfolds = StratifiedKFold(n_splits=5, shuffle=True)\n",
    "    s = 0;\n",
    "\n",
    "    for train_index, cv_index in skfolds.split(X_train, y_train):\n",
    "        clone_clf = clone(clf)\n",
    "        X_train_folds = X_train[train_index]\n",
    "        y_train_folds = (y_train[train_index])\n",
    "        X_cv_fold = X_train[cv_index]\n",
    "        y_cv_fold = (y_train[cv_index])\n",
    "    \n",
    "        clone_clf.fit(X_train_folds, y_train_folds)\n",
    "        y_pred = clone_clf.predict(X_cv_fold)\n",
    "        n_correct = sum(y_pred == y_cv_fold)\n",
    "        s += n_correct / len(y_pred);\n",
    "    return s / 5 # n_splits"
   ]
  },
  {
   "cell_type": "code",
   "execution_count": 21,
   "metadata": {},
   "outputs": [
    {
     "name": "stderr",
     "output_type": "stream",
     "text": [
      "/home/tuedo/anaconda3/lib/python3.7/site-packages/sklearn/svm/_base.py:977: ConvergenceWarning: Liblinear failed to converge, increase the number of iterations.\n",
      "  \"the number of iterations.\", ConvergenceWarning)\n",
      "/home/tuedo/anaconda3/lib/python3.7/site-packages/sklearn/svm/_base.py:977: ConvergenceWarning: Liblinear failed to converge, increase the number of iterations.\n",
      "  \"the number of iterations.\", ConvergenceWarning)\n",
      "/home/tuedo/anaconda3/lib/python3.7/site-packages/sklearn/svm/_base.py:977: ConvergenceWarning: Liblinear failed to converge, increase the number of iterations.\n",
      "  \"the number of iterations.\", ConvergenceWarning)\n",
      "/home/tuedo/anaconda3/lib/python3.7/site-packages/sklearn/svm/_base.py:977: ConvergenceWarning: Liblinear failed to converge, increase the number of iterations.\n",
      "  \"the number of iterations.\", ConvergenceWarning)\n",
      "/home/tuedo/anaconda3/lib/python3.7/site-packages/sklearn/svm/_base.py:977: ConvergenceWarning: Liblinear failed to converge, increase the number of iterations.\n",
      "  \"the number of iterations.\", ConvergenceWarning)\n",
      "/home/tuedo/anaconda3/lib/python3.7/site-packages/sklearn/svm/_base.py:977: ConvergenceWarning: Liblinear failed to converge, increase the number of iterations.\n",
      "  \"the number of iterations.\", ConvergenceWarning)\n",
      "/home/tuedo/anaconda3/lib/python3.7/site-packages/sklearn/svm/_base.py:977: ConvergenceWarning: Liblinear failed to converge, increase the number of iterations.\n",
      "  \"the number of iterations.\", ConvergenceWarning)\n",
      "/home/tuedo/anaconda3/lib/python3.7/site-packages/sklearn/svm/_base.py:977: ConvergenceWarning: Liblinear failed to converge, increase the number of iterations.\n",
      "  \"the number of iterations.\", ConvergenceWarning)\n",
      "/home/tuedo/anaconda3/lib/python3.7/site-packages/sklearn/svm/_base.py:977: ConvergenceWarning: Liblinear failed to converge, increase the number of iterations.\n",
      "  \"the number of iterations.\", ConvergenceWarning)\n",
      "/home/tuedo/anaconda3/lib/python3.7/site-packages/sklearn/svm/_base.py:977: ConvergenceWarning: Liblinear failed to converge, increase the number of iterations.\n",
      "  \"the number of iterations.\", ConvergenceWarning)\n",
      "/home/tuedo/anaconda3/lib/python3.7/site-packages/sklearn/svm/_base.py:977: ConvergenceWarning: Liblinear failed to converge, increase the number of iterations.\n",
      "  \"the number of iterations.\", ConvergenceWarning)\n",
      "/home/tuedo/anaconda3/lib/python3.7/site-packages/sklearn/svm/_base.py:977: ConvergenceWarning: Liblinear failed to converge, increase the number of iterations.\n",
      "  \"the number of iterations.\", ConvergenceWarning)\n",
      "/home/tuedo/anaconda3/lib/python3.7/site-packages/sklearn/svm/_base.py:977: ConvergenceWarning: Liblinear failed to converge, increase the number of iterations.\n",
      "  \"the number of iterations.\", ConvergenceWarning)\n",
      "/home/tuedo/anaconda3/lib/python3.7/site-packages/sklearn/svm/_base.py:977: ConvergenceWarning: Liblinear failed to converge, increase the number of iterations.\n",
      "  \"the number of iterations.\", ConvergenceWarning)\n",
      "/home/tuedo/anaconda3/lib/python3.7/site-packages/sklearn/svm/_base.py:977: ConvergenceWarning: Liblinear failed to converge, increase the number of iterations.\n",
      "  \"the number of iterations.\", ConvergenceWarning)\n",
      "/home/tuedo/anaconda3/lib/python3.7/site-packages/sklearn/svm/_base.py:977: ConvergenceWarning: Liblinear failed to converge, increase the number of iterations.\n",
      "  \"the number of iterations.\", ConvergenceWarning)\n",
      "/home/tuedo/anaconda3/lib/python3.7/site-packages/sklearn/svm/_base.py:977: ConvergenceWarning: Liblinear failed to converge, increase the number of iterations.\n",
      "  \"the number of iterations.\", ConvergenceWarning)\n",
      "/home/tuedo/anaconda3/lib/python3.7/site-packages/sklearn/svm/_base.py:977: ConvergenceWarning: Liblinear failed to converge, increase the number of iterations.\n",
      "  \"the number of iterations.\", ConvergenceWarning)\n",
      "/home/tuedo/anaconda3/lib/python3.7/site-packages/sklearn/svm/_base.py:977: ConvergenceWarning: Liblinear failed to converge, increase the number of iterations.\n",
      "  \"the number of iterations.\", ConvergenceWarning)\n",
      "/home/tuedo/anaconda3/lib/python3.7/site-packages/sklearn/svm/_base.py:977: ConvergenceWarning: Liblinear failed to converge, increase the number of iterations.\n",
      "  \"the number of iterations.\", ConvergenceWarning)\n",
      "/home/tuedo/anaconda3/lib/python3.7/site-packages/sklearn/svm/_base.py:977: ConvergenceWarning: Liblinear failed to converge, increase the number of iterations.\n",
      "  \"the number of iterations.\", ConvergenceWarning)\n",
      "/home/tuedo/anaconda3/lib/python3.7/site-packages/sklearn/svm/_base.py:977: ConvergenceWarning: Liblinear failed to converge, increase the number of iterations.\n",
      "  \"the number of iterations.\", ConvergenceWarning)\n",
      "/home/tuedo/anaconda3/lib/python3.7/site-packages/sklearn/svm/_base.py:977: ConvergenceWarning: Liblinear failed to converge, increase the number of iterations.\n",
      "  \"the number of iterations.\", ConvergenceWarning)\n",
      "/home/tuedo/anaconda3/lib/python3.7/site-packages/sklearn/svm/_base.py:977: ConvergenceWarning: Liblinear failed to converge, increase the number of iterations.\n",
      "  \"the number of iterations.\", ConvergenceWarning)\n",
      "/home/tuedo/anaconda3/lib/python3.7/site-packages/sklearn/svm/_base.py:977: ConvergenceWarning: Liblinear failed to converge, increase the number of iterations.\n",
      "  \"the number of iterations.\", ConvergenceWarning)\n",
      "/home/tuedo/anaconda3/lib/python3.7/site-packages/sklearn/svm/_base.py:977: ConvergenceWarning: Liblinear failed to converge, increase the number of iterations.\n",
      "  \"the number of iterations.\", ConvergenceWarning)\n",
      "/home/tuedo/anaconda3/lib/python3.7/site-packages/sklearn/svm/_base.py:977: ConvergenceWarning: Liblinear failed to converge, increase the number of iterations.\n",
      "  \"the number of iterations.\", ConvergenceWarning)\n",
      "/home/tuedo/anaconda3/lib/python3.7/site-packages/sklearn/svm/_base.py:977: ConvergenceWarning: Liblinear failed to converge, increase the number of iterations.\n",
      "  \"the number of iterations.\", ConvergenceWarning)\n",
      "/home/tuedo/anaconda3/lib/python3.7/site-packages/sklearn/svm/_base.py:977: ConvergenceWarning: Liblinear failed to converge, increase the number of iterations.\n",
      "  \"the number of iterations.\", ConvergenceWarning)\n",
      "/home/tuedo/anaconda3/lib/python3.7/site-packages/sklearn/svm/_base.py:977: ConvergenceWarning: Liblinear failed to converge, increase the number of iterations.\n",
      "  \"the number of iterations.\", ConvergenceWarning)\n",
      "/home/tuedo/anaconda3/lib/python3.7/site-packages/sklearn/svm/_base.py:977: ConvergenceWarning: Liblinear failed to converge, increase the number of iterations.\n",
      "  \"the number of iterations.\", ConvergenceWarning)\n",
      "/home/tuedo/anaconda3/lib/python3.7/site-packages/sklearn/svm/_base.py:977: ConvergenceWarning: Liblinear failed to converge, increase the number of iterations.\n",
      "  \"the number of iterations.\", ConvergenceWarning)\n",
      "/home/tuedo/anaconda3/lib/python3.7/site-packages/sklearn/svm/_base.py:977: ConvergenceWarning: Liblinear failed to converge, increase the number of iterations.\n",
      "  \"the number of iterations.\", ConvergenceWarning)\n",
      "/home/tuedo/anaconda3/lib/python3.7/site-packages/sklearn/svm/_base.py:977: ConvergenceWarning: Liblinear failed to converge, increase the number of iterations.\n",
      "  \"the number of iterations.\", ConvergenceWarning)\n",
      "/home/tuedo/anaconda3/lib/python3.7/site-packages/sklearn/svm/_base.py:977: ConvergenceWarning: Liblinear failed to converge, increase the number of iterations.\n",
      "  \"the number of iterations.\", ConvergenceWarning)\n",
      "/home/tuedo/anaconda3/lib/python3.7/site-packages/sklearn/svm/_base.py:977: ConvergenceWarning: Liblinear failed to converge, increase the number of iterations.\n",
      "  \"the number of iterations.\", ConvergenceWarning)\n",
      "/home/tuedo/anaconda3/lib/python3.7/site-packages/sklearn/svm/_base.py:977: ConvergenceWarning: Liblinear failed to converge, increase the number of iterations.\n",
      "  \"the number of iterations.\", ConvergenceWarning)\n",
      "/home/tuedo/anaconda3/lib/python3.7/site-packages/sklearn/svm/_base.py:977: ConvergenceWarning: Liblinear failed to converge, increase the number of iterations.\n",
      "  \"the number of iterations.\", ConvergenceWarning)\n",
      "/home/tuedo/anaconda3/lib/python3.7/site-packages/sklearn/svm/_base.py:977: ConvergenceWarning: Liblinear failed to converge, increase the number of iterations.\n",
      "  \"the number of iterations.\", ConvergenceWarning)\n"
     ]
    },
    {
     "name": "stderr",
     "output_type": "stream",
     "text": [
      "/home/tuedo/anaconda3/lib/python3.7/site-packages/sklearn/svm/_base.py:977: ConvergenceWarning: Liblinear failed to converge, increase the number of iterations.\n",
      "  \"the number of iterations.\", ConvergenceWarning)\n",
      "/home/tuedo/anaconda3/lib/python3.7/site-packages/sklearn/svm/_base.py:977: ConvergenceWarning: Liblinear failed to converge, increase the number of iterations.\n",
      "  \"the number of iterations.\", ConvergenceWarning)\n",
      "/home/tuedo/anaconda3/lib/python3.7/site-packages/sklearn/svm/_base.py:977: ConvergenceWarning: Liblinear failed to converge, increase the number of iterations.\n",
      "  \"the number of iterations.\", ConvergenceWarning)\n",
      "/home/tuedo/anaconda3/lib/python3.7/site-packages/sklearn/svm/_base.py:977: ConvergenceWarning: Liblinear failed to converge, increase the number of iterations.\n",
      "  \"the number of iterations.\", ConvergenceWarning)\n",
      "/home/tuedo/anaconda3/lib/python3.7/site-packages/sklearn/svm/_base.py:977: ConvergenceWarning: Liblinear failed to converge, increase the number of iterations.\n",
      "  \"the number of iterations.\", ConvergenceWarning)\n",
      "/home/tuedo/anaconda3/lib/python3.7/site-packages/sklearn/svm/_base.py:977: ConvergenceWarning: Liblinear failed to converge, increase the number of iterations.\n",
      "  \"the number of iterations.\", ConvergenceWarning)\n",
      "/home/tuedo/anaconda3/lib/python3.7/site-packages/sklearn/svm/_base.py:977: ConvergenceWarning: Liblinear failed to converge, increase the number of iterations.\n",
      "  \"the number of iterations.\", ConvergenceWarning)\n",
      "/home/tuedo/anaconda3/lib/python3.7/site-packages/sklearn/svm/_base.py:977: ConvergenceWarning: Liblinear failed to converge, increase the number of iterations.\n",
      "  \"the number of iterations.\", ConvergenceWarning)\n",
      "/home/tuedo/anaconda3/lib/python3.7/site-packages/sklearn/svm/_base.py:977: ConvergenceWarning: Liblinear failed to converge, increase the number of iterations.\n",
      "  \"the number of iterations.\", ConvergenceWarning)\n",
      "/home/tuedo/anaconda3/lib/python3.7/site-packages/sklearn/svm/_base.py:977: ConvergenceWarning: Liblinear failed to converge, increase the number of iterations.\n",
      "  \"the number of iterations.\", ConvergenceWarning)\n",
      "/home/tuedo/anaconda3/lib/python3.7/site-packages/sklearn/svm/_base.py:977: ConvergenceWarning: Liblinear failed to converge, increase the number of iterations.\n",
      "  \"the number of iterations.\", ConvergenceWarning)\n",
      "/home/tuedo/anaconda3/lib/python3.7/site-packages/sklearn/svm/_base.py:977: ConvergenceWarning: Liblinear failed to converge, increase the number of iterations.\n",
      "  \"the number of iterations.\", ConvergenceWarning)\n",
      "/home/tuedo/anaconda3/lib/python3.7/site-packages/sklearn/svm/_base.py:977: ConvergenceWarning: Liblinear failed to converge, increase the number of iterations.\n",
      "  \"the number of iterations.\", ConvergenceWarning)\n",
      "/home/tuedo/anaconda3/lib/python3.7/site-packages/sklearn/svm/_base.py:977: ConvergenceWarning: Liblinear failed to converge, increase the number of iterations.\n",
      "  \"the number of iterations.\", ConvergenceWarning)\n",
      "/home/tuedo/anaconda3/lib/python3.7/site-packages/sklearn/svm/_base.py:977: ConvergenceWarning: Liblinear failed to converge, increase the number of iterations.\n",
      "  \"the number of iterations.\", ConvergenceWarning)\n",
      "/home/tuedo/anaconda3/lib/python3.7/site-packages/sklearn/svm/_base.py:977: ConvergenceWarning: Liblinear failed to converge, increase the number of iterations.\n",
      "  \"the number of iterations.\", ConvergenceWarning)\n",
      "/home/tuedo/anaconda3/lib/python3.7/site-packages/sklearn/svm/_base.py:977: ConvergenceWarning: Liblinear failed to converge, increase the number of iterations.\n",
      "  \"the number of iterations.\", ConvergenceWarning)\n",
      "/home/tuedo/anaconda3/lib/python3.7/site-packages/sklearn/svm/_base.py:977: ConvergenceWarning: Liblinear failed to converge, increase the number of iterations.\n",
      "  \"the number of iterations.\", ConvergenceWarning)\n"
     ]
    },
    {
     "name": "stdout",
     "output_type": "stream",
     "text": [
      "0.03 1\n"
     ]
    }
   ],
   "source": [
    "# testing polynomial_svm_clf\n",
    "C_list = [0.01, 0.03, 0.1, 0.3, 1, 3]\n",
    "deg_list = [1, 2, 3]\n",
    "\n",
    "max_mean = 0;\n",
    "max_C = 0;\n",
    "max_deg = 0;\n",
    "\n",
    "for C in C_list:\n",
    "    for deg in deg_list:\n",
    "        clf = Pipeline((\n",
    "            (\"poly_features\", PolynomialFeatures(degree=deg)),\n",
    "            (\"scaler\", StandardScaler()),\n",
    "            (\"svm_clf\", LinearSVC(C=C, loss=\"hinge\"))\n",
    "        ))\n",
    "\n",
    "        clf.fit(X, y)\n",
    "        \n",
    "        mean = mean_predicts(clf, X, y)\n",
    "        if (mean > max_mean):\n",
    "            max_C = C\n",
    "            max_deg = deg\n",
    "            max_mean = mean\n",
    "\n",
    "print(max_C, max_deg)"
   ]
  },
  {
   "cell_type": "code",
   "execution_count": 22,
   "metadata": {},
   "outputs": [
    {
     "name": "stdout",
     "output_type": "stream",
     "text": [
      "0.01 2 0.83375\n"
     ]
    }
   ],
   "source": [
    "# testing poly_kernel_svm_clf\n",
    "C_list = [0.01, 0.03, 0.1, 0.3, 1, 3]\n",
    "deg_list = [1, 2, 3]\n",
    "\n",
    "max_mean = 0;\n",
    "max_C = 0;\n",
    "max_deg = 0;\n",
    "\n",
    "for C in C_list:\n",
    "    for deg in deg_list:\n",
    "        poly_kernel_svm_clf = Pipeline((\n",
    "            (\"scaler\", StandardScaler()),\n",
    "            (\"svm_clf\", SVC(kernel=\"poly\", degree=deg, coef0=1, C=C)),\n",
    "        ))\n",
    "\n",
    "        poly_kernel_svm_clf.fit(X,y)\n",
    "        \n",
    "        mean = mean_predicts(clf, X, y)\n",
    "        if (mean > max_mean):\n",
    "            max_C = C\n",
    "            max_deg = deg\n",
    "            max_mean = mean\n",
    "\n",
    "print(max_C, max_deg, max_mean)"
   ]
  },
  {
   "cell_type": "code",
   "execution_count": 23,
   "metadata": {},
   "outputs": [
    {
     "data": {
      "text/plain": [
       "array([   7,    9,   10,   14,   16,   33,   35,   43,   51,   52,   56,\n",
       "         61,   63,   64,   67,   74,   75,   88,   94,   96,  106,  113,\n",
       "        134,  140,  146,  150,  153,  155,  165,  171,  187,  196,  203,\n",
       "        205,  212,  217,  223,  227,  228,  229,  230,  238,  239,  244,\n",
       "        249,  251,  254,  262,  264,  267,  271,  272,  277,  278,  281,\n",
       "        294,  300,  305,  308,  314,  321,  322,  325,  326,  334,  344,\n",
       "        349,  352,  356,  374,  380,  392,  397,  402,  403,  408,  409,\n",
       "        410,  411,  412,  416,  434,  435,  442,  446,  448,  450,  451,\n",
       "        462,  464,  465,  467,  469,  472,  476,  480,  481,  483,  488,\n",
       "        490,  496,  498,  499,  502,  505,  535,  538,  545,  554,  555,\n",
       "        562,  572,  580,  586,  588,  591,  596,  601,  602,  603,  606,\n",
       "        615,  618,  626,  634,  640,  645,  646,  647,  655,  657,  659,\n",
       "        667,  671,  672,  673,  676,  686,  704,  707,  712,  719,  725,\n",
       "        731,  739,  749,  754,  768,  770,  772,  773,  774,  794,  801,\n",
       "        803,  812,  816,  817,  819,  822,  824,  839,  844,  845,  849,\n",
       "        851,  861,  869,  871,  877,  888,  890,  896,  900,  903,  906,\n",
       "        910,  921,  922,  923,  925,  928,  931,  933,  934,  935,  938,\n",
       "        939,  941,  944,  946,  953,  956,  962,  964,  969,  973,  981,\n",
       "        983,  984,  987,  994,  999, 1008, 1010, 1013, 1016, 1017, 1019,\n",
       "       1026, 1027, 1033, 1037, 1038, 1043, 1046, 1050, 1051, 1052, 1059,\n",
       "       1063, 1065, 1069, 1070, 1079, 1081, 1085, 1089, 1098, 1099, 1107,\n",
       "       1112, 1115, 1116, 1118, 1126, 1128, 1130, 1132, 1134, 1135, 1139,\n",
       "       1149, 1166, 1179, 1180, 1185, 1195, 1201, 1204, 1216, 1219, 1223,\n",
       "       1228, 1234, 1243, 1256, 1259, 1262, 1269, 1277, 1280, 1284, 1292,\n",
       "       1295, 1299, 1304, 1305, 1311, 1313, 1315, 1323, 1326, 1332, 1339,\n",
       "       1341, 1344, 1354, 1358, 1360, 1361, 1366, 1367, 1369, 1374, 1375,\n",
       "       1378, 1379, 1384, 1396, 1402, 1404, 1409, 1413, 1416, 1419, 1423,\n",
       "       1424, 1427, 1429, 1439, 1459, 1469, 1470, 1474, 1475, 1477, 1482,\n",
       "       1484, 1487, 1502, 1508, 1513, 1519, 1520, 1521, 1526, 1528, 1539,\n",
       "       1540, 1541, 1542, 1545, 1550, 1560, 1561, 1564, 1567, 1575, 1593,\n",
       "       1600, 1605, 1616, 1618, 1625, 1627, 1636, 1637, 1646, 1647, 1648,\n",
       "       1652, 1658, 1668, 1676, 1685, 1686, 1688, 1704, 1711, 1723, 1731,\n",
       "       1739, 1748, 1752, 1754, 1755, 1758, 1764, 1768, 1770, 1773, 1775,\n",
       "       1776, 1778, 1783, 1800, 1814, 1821, 1823, 1838, 1846, 1848, 1859,\n",
       "       1860, 1861, 1872, 1873, 1875, 1880, 1885, 1887, 1892, 1896, 1897,\n",
       "       1898, 1916, 1918, 1923, 1927, 1934, 1940, 1943, 1954, 1960, 1967,\n",
       "       1971, 1972, 1978, 1982, 1983, 1994, 1996, 2003, 2004, 2010, 2012,\n",
       "       2018, 2020, 2022, 2024, 2028, 2033, 2035, 2045, 2051, 2054, 2058,\n",
       "       2061, 2068, 2069, 2070, 2087, 2091, 2092, 2098, 2112, 2113, 2120,\n",
       "       2132, 2146, 2147, 2148, 2149, 2151, 2153, 2154, 2159, 2162, 2179,\n",
       "       2180, 2181, 2182, 2186, 2196, 2208, 2215, 2218, 2221, 2222, 2223,\n",
       "       2231, 2232, 2239, 2242, 2248, 2261, 2263, 2265, 2271, 2277, 2278,\n",
       "       2282, 2287, 2288, 2291, 2293, 2296, 2297, 2300, 2302, 2304, 2309,\n",
       "       2321, 2328, 2329, 2330, 2334, 2338, 2351, 2357, 2360, 2364, 2365,\n",
       "       2368, 2369, 2370, 2371, 2374, 2375, 2383, 2386, 2400, 2406, 2412,\n",
       "       2420, 2421, 2431, 2433, 2434, 2440, 2444, 2450, 2452, 2454, 2455,\n",
       "       2466, 2480, 2481, 2482, 2496, 2502, 2512, 2516, 2517, 2522, 2527,\n",
       "       2533, 2534, 2539, 2540, 2545, 2549, 2554, 2558, 2560, 2561, 2562,\n",
       "       2564, 2572, 2576, 2581, 2592, 2599, 2600, 2601, 2602, 2605, 2608,\n",
       "       2610, 2614, 2616, 2620, 2623, 2629, 2630, 2638, 2647, 2655, 2661,\n",
       "       2662, 2666, 2671, 2672, 2674, 2676, 2686, 2697, 2704, 2716, 2723,\n",
       "       2724, 2729, 2732, 2753, 2762, 2767, 2768, 2770, 2775, 2777, 2789,\n",
       "       2795, 2812, 2817, 2819, 2820, 2822, 2829, 2835, 2836, 2840, 2851,\n",
       "       2852, 2855, 2863, 2866, 2869, 2871, 2885, 2886, 2887, 2888, 2895,\n",
       "       2897, 2900, 2907, 2919, 2921, 2924, 2928, 2929, 2945, 2956, 2957,\n",
       "       2960, 2961, 2969, 2970, 2975, 2977, 2989, 2992, 2995, 2999])"
      ]
     },
     "execution_count": 23,
     "metadata": {},
     "output_type": "execute_result"
    }
   ],
   "source": [
    "# 0.3 1 seems like best C and deg for kernel, but its still not as good as our 5-part Schocastic Gradient Descent\n",
    "# Time for 5-part LinearSVM\n",
    "\n",
    "best_svm_clf = Pipeline((\n",
    "    (\"scaler\", StandardScaler()),\n",
    "    (\"linear_svc\", LinearSVC(C=0.3, loss=\"hinge\")),\n",
    "))\n",
    "\n",
    "ind_A = np.where(df[\"XC\"]=='A')\n",
    "ind_A[0]"
   ]
  },
  {
   "cell_type": "code",
   "execution_count": 24,
   "metadata": {},
   "outputs": [
    {
     "data": {
      "text/plain": [
       "(615,)"
      ]
     },
     "execution_count": 24,
     "metadata": {},
     "output_type": "execute_result"
    }
   ],
   "source": [
    "X_A, y_A = X[np.ma.masked_array(ind_A[0]), :], y[np.ma.masked_array(ind_A[0])]\n",
    "X_A.shape\n",
    "y_A.shape"
   ]
  },
  {
   "cell_type": "code",
   "execution_count": 25,
   "metadata": {},
   "outputs": [
    {
     "name": "stdout",
     "output_type": "stream",
     "text": [
      "0.983739837398374\n",
      "0.975609756097561\n",
      "0.975609756097561\n",
      "0.9512195121951219\n",
      "0.967479674796748\n",
      "mean: 0.9707317073170731\n",
      "\n"
     ]
    },
    {
     "name": "stderr",
     "output_type": "stream",
     "text": [
      "/home/tuedo/anaconda3/lib/python3.7/site-packages/sklearn/svm/_base.py:977: ConvergenceWarning: Liblinear failed to converge, increase the number of iterations.\n",
      "  \"the number of iterations.\", ConvergenceWarning)\n",
      "/home/tuedo/anaconda3/lib/python3.7/site-packages/sklearn/svm/_base.py:977: ConvergenceWarning: Liblinear failed to converge, increase the number of iterations.\n",
      "  \"the number of iterations.\", ConvergenceWarning)\n",
      "/home/tuedo/anaconda3/lib/python3.7/site-packages/sklearn/svm/_base.py:977: ConvergenceWarning: Liblinear failed to converge, increase the number of iterations.\n",
      "  \"the number of iterations.\", ConvergenceWarning)\n",
      "/home/tuedo/anaconda3/lib/python3.7/site-packages/sklearn/svm/_base.py:977: ConvergenceWarning: Liblinear failed to converge, increase the number of iterations.\n",
      "  \"the number of iterations.\", ConvergenceWarning)\n",
      "/home/tuedo/anaconda3/lib/python3.7/site-packages/sklearn/svm/_base.py:977: ConvergenceWarning: Liblinear failed to converge, increase the number of iterations.\n",
      "  \"the number of iterations.\", ConvergenceWarning)\n"
     ]
    }
   ],
   "source": [
    "best_svm_clf.fit(X_A, y_A)\n",
    "show_predicts(best_svm_clf, X_A, y_A)"
   ]
  },
  {
   "cell_type": "code",
   "execution_count": 26,
   "metadata": {},
   "outputs": [
    {
     "name": "stdout",
     "output_type": "stream",
     "text": [
      "0.9099099099099099\n",
      "0.954954954954955\n",
      "0.9545454545454546\n",
      "0.9545454545454546\n",
      "0.9454545454545454\n",
      "mean: 0.9438820638820639\n",
      "\n",
      "0.9774436090225563\n",
      "0.9548872180451128\n",
      "0.9548872180451128\n",
      "0.9924812030075187\n",
      "0.9548872180451128\n",
      "mean: 0.9669172932330827\n",
      "\n",
      "0.9396551724137931\n",
      "0.9741379310344828\n",
      "0.9913793103448276\n",
      "0.9655172413793104\n",
      "0.9568965517241379\n",
      "mean: 0.9655172413793103\n",
      "\n",
      "0.9491525423728814\n",
      "0.940677966101695\n",
      "0.9322033898305084\n",
      "0.9487179487179487\n",
      "0.9658119658119658\n",
      "mean: 0.9473127625669999\n",
      "\n"
     ]
    },
    {
     "name": "stderr",
     "output_type": "stream",
     "text": [
      "/home/tuedo/anaconda3/lib/python3.7/site-packages/sklearn/svm/_base.py:977: ConvergenceWarning: Liblinear failed to converge, increase the number of iterations.\n",
      "  \"the number of iterations.\", ConvergenceWarning)\n",
      "/home/tuedo/anaconda3/lib/python3.7/site-packages/sklearn/svm/_base.py:977: ConvergenceWarning: Liblinear failed to converge, increase the number of iterations.\n",
      "  \"the number of iterations.\", ConvergenceWarning)\n",
      "/home/tuedo/anaconda3/lib/python3.7/site-packages/sklearn/svm/_base.py:977: ConvergenceWarning: Liblinear failed to converge, increase the number of iterations.\n",
      "  \"the number of iterations.\", ConvergenceWarning)\n",
      "/home/tuedo/anaconda3/lib/python3.7/site-packages/sklearn/svm/_base.py:977: ConvergenceWarning: Liblinear failed to converge, increase the number of iterations.\n",
      "  \"the number of iterations.\", ConvergenceWarning)\n",
      "/home/tuedo/anaconda3/lib/python3.7/site-packages/sklearn/svm/_base.py:977: ConvergenceWarning: Liblinear failed to converge, increase the number of iterations.\n",
      "  \"the number of iterations.\", ConvergenceWarning)\n",
      "/home/tuedo/anaconda3/lib/python3.7/site-packages/sklearn/svm/_base.py:977: ConvergenceWarning: Liblinear failed to converge, increase the number of iterations.\n",
      "  \"the number of iterations.\", ConvergenceWarning)\n",
      "/home/tuedo/anaconda3/lib/python3.7/site-packages/sklearn/svm/_base.py:977: ConvergenceWarning: Liblinear failed to converge, increase the number of iterations.\n",
      "  \"the number of iterations.\", ConvergenceWarning)\n",
      "/home/tuedo/anaconda3/lib/python3.7/site-packages/sklearn/svm/_base.py:977: ConvergenceWarning: Liblinear failed to converge, increase the number of iterations.\n",
      "  \"the number of iterations.\", ConvergenceWarning)\n",
      "/home/tuedo/anaconda3/lib/python3.7/site-packages/sklearn/svm/_base.py:977: ConvergenceWarning: Liblinear failed to converge, increase the number of iterations.\n",
      "  \"the number of iterations.\", ConvergenceWarning)\n",
      "/home/tuedo/anaconda3/lib/python3.7/site-packages/sklearn/svm/_base.py:977: ConvergenceWarning: Liblinear failed to converge, increase the number of iterations.\n",
      "  \"the number of iterations.\", ConvergenceWarning)\n",
      "/home/tuedo/anaconda3/lib/python3.7/site-packages/sklearn/svm/_base.py:977: ConvergenceWarning: Liblinear failed to converge, increase the number of iterations.\n",
      "  \"the number of iterations.\", ConvergenceWarning)\n",
      "/home/tuedo/anaconda3/lib/python3.7/site-packages/sklearn/svm/_base.py:977: ConvergenceWarning: Liblinear failed to converge, increase the number of iterations.\n",
      "  \"the number of iterations.\", ConvergenceWarning)\n",
      "/home/tuedo/anaconda3/lib/python3.7/site-packages/sklearn/svm/_base.py:977: ConvergenceWarning: Liblinear failed to converge, increase the number of iterations.\n",
      "  \"the number of iterations.\", ConvergenceWarning)\n",
      "/home/tuedo/anaconda3/lib/python3.7/site-packages/sklearn/svm/_base.py:977: ConvergenceWarning: Liblinear failed to converge, increase the number of iterations.\n",
      "  \"the number of iterations.\", ConvergenceWarning)\n",
      "/home/tuedo/anaconda3/lib/python3.7/site-packages/sklearn/svm/_base.py:977: ConvergenceWarning: Liblinear failed to converge, increase the number of iterations.\n",
      "  \"the number of iterations.\", ConvergenceWarning)\n",
      "/home/tuedo/anaconda3/lib/python3.7/site-packages/sklearn/svm/_base.py:977: ConvergenceWarning: Liblinear failed to converge, increase the number of iterations.\n",
      "  \"the number of iterations.\", ConvergenceWarning)\n",
      "/home/tuedo/anaconda3/lib/python3.7/site-packages/sklearn/svm/_base.py:977: ConvergenceWarning: Liblinear failed to converge, increase the number of iterations.\n",
      "  \"the number of iterations.\", ConvergenceWarning)\n",
      "/home/tuedo/anaconda3/lib/python3.7/site-packages/sklearn/svm/_base.py:977: ConvergenceWarning: Liblinear failed to converge, increase the number of iterations.\n",
      "  \"the number of iterations.\", ConvergenceWarning)\n",
      "/home/tuedo/anaconda3/lib/python3.7/site-packages/sklearn/svm/_base.py:977: ConvergenceWarning: Liblinear failed to converge, increase the number of iterations.\n",
      "  \"the number of iterations.\", ConvergenceWarning)\n",
      "/home/tuedo/anaconda3/lib/python3.7/site-packages/sklearn/svm/_base.py:977: ConvergenceWarning: Liblinear failed to converge, increase the number of iterations.\n",
      "  \"the number of iterations.\", ConvergenceWarning)\n",
      "/home/tuedo/anaconda3/lib/python3.7/site-packages/sklearn/svm/_base.py:977: ConvergenceWarning: Liblinear failed to converge, increase the number of iterations.\n",
      "  \"the number of iterations.\", ConvergenceWarning)\n",
      "/home/tuedo/anaconda3/lib/python3.7/site-packages/sklearn/svm/_base.py:977: ConvergenceWarning: Liblinear failed to converge, increase the number of iterations.\n",
      "  \"the number of iterations.\", ConvergenceWarning)\n"
     ]
    }
   ],
   "source": [
    "ind_B = np.where(df[\"XC\"]=='B')\n",
    "X_B, y_B = X[np.ma.masked_array(ind_B[0]), :], y[np.ma.masked_array(ind_B[0])]\n",
    "best_svm_clf.fit(X_B, y_B)\n",
    "show_predicts(best_svm_clf, X_B, y_B)\n",
    "\n",
    "ind_C = np.where(df[\"XC\"]=='C')\n",
    "X_C, y_C = X[np.ma.masked_array(ind_C[0]), :], y[np.ma.masked_array(ind_C[0])]\n",
    "best_svm_clf.fit(X_C, y_C)\n",
    "show_predicts(best_svm_clf, X_C, y_C)\n",
    "\n",
    "ind_D = np.where(df[\"XC\"]=='D')\n",
    "X_D, y_D = X[np.ma.masked_array(ind_D[0]), :], y[np.ma.masked_array(ind_D[0])]\n",
    "best_svm_clf.fit(X_D, y_D)\n",
    "show_predicts(best_svm_clf, X_D, y_D)\n",
    "\n",
    "ind_E = np.where(df[\"XC\"]=='E')\n",
    "X_E, y_E = X[np.ma.masked_array(ind_E[0]), :], y[np.ma.masked_array(ind_E[0])]\n",
    "best_svm_clf.fit(X_E, y_E)\n",
    "show_predicts(best_svm_clf, X_E, y_E)"
   ]
  },
  {
   "cell_type": "code",
   "execution_count": null,
   "metadata": {},
   "outputs": [],
   "source": []
  }
 ],
 "metadata": {
  "kernelspec": {
   "display_name": "Python 3",
   "language": "python",
   "name": "python3"
  },
  "language_info": {
   "codemirror_mode": {
    "name": "ipython",
    "version": 3
   },
   "file_extension": ".py",
   "mimetype": "text/x-python",
   "name": "python",
   "nbconvert_exporter": "python",
   "pygments_lexer": "ipython3",
   "version": "3.7.6"
  }
 },
 "nbformat": 4,
 "nbformat_minor": 4
}
